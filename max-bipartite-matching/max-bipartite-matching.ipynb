{
 "cells": [
  {
   "cell_type": "markdown",
   "metadata": {},
   "source": [
    "# Maximum bipartite matching for computing how similarity between two proteins\n",
    "\n",
    "reference: https://www.geeksforgeeks.org/maximum-bipartite-matching/"
   ]
  },
  {
   "cell_type": "code",
   "execution_count": 1,
   "metadata": {},
   "outputs": [],
   "source": [
    "p1 = './SAUGI align.pdb'\n",
    "p2 = './SeUGI align.pdb'\n",
    "threshold = 4"
   ]
  },
  {
   "cell_type": "markdown",
   "metadata": {},
   "source": [
    "+ Blue: SeUGI\n",
    "+ Green: SAUGI\n",
    "+ RMSD: 0.888\n",
    "\n",
    "![](https://i.imgur.com/P9ql4jo.png)"
   ]
  },
  {
   "cell_type": "code",
   "execution_count": 2,
   "metadata": {},
   "outputs": [],
   "source": [
    "import sys\n",
    "sys.path.insert(0, '../')\n",
    "from atom import Protein\n",
    "from gfg import GFG\n",
    "import math"
   ]
  },
  {
   "cell_type": "code",
   "execution_count": 3,
   "metadata": {},
   "outputs": [],
   "source": [
    "with open(p1) as f:\n",
    "    proteinA = Protein.fromFile(f)\n",
    "    proteinA.centroid()\n",
    "    proteinA.filter()\n",
    "\n",
    "with open(p2) as f:\n",
    "    proteinB = Protein.fromFile(f)\n",
    "    proteinB.centroid()\n",
    "    proteinB.filter()\n"
   ]
  },
  {
   "cell_type": "code",
   "execution_count": 4,
   "metadata": {},
   "outputs": [
    {
     "name": "stdout",
     "output_type": "stream",
     "text": [
      "proteinA: 26 atoms\n",
      "proteinB: 25 atoms\n",
      "connect: 26\n",
      "Maximum bipartite matching 14 \n"
     ]
    }
   ],
   "source": [
    "# Create a 2D graph\n",
    "# row: proteinA\n",
    "# col: proteinB\n",
    "graph = [[0]*len(proteinB.list)]*len(proteinA.list)\n",
    "connect = 0\n",
    "for i in range(len(proteinA.list)):\n",
    "    for j in range(len(proteinB.list)):\n",
    "        a = proteinA.list[i]\n",
    "        b = proteinB.list[j]\n",
    "        if(math.sqrt(\n",
    "                (a.x-b.x)*(a.x-b.x) + (a.y-b.y)*(a.y-b.y) + (a.z-b.z)*(a.z-b.z)) < threshold):\n",
    "            graph[i][j] = 1\n",
    "            connect += 1\n",
    "\n",
    "g = GFG(graph)\n",
    "print(\"proteinA: %d atoms\" % len(proteinA.list))\n",
    "print(\"proteinB: %d atoms\" % len(proteinB.list))\n",
    "print(\"connect: %d\" % connect)\n",
    "print(\"Maximum bipartite matching %d \" % g.maxBPM())\n"
   ]
  }
 ],
 "metadata": {
  "kernelspec": {
   "display_name": "Python 3.8.0 64-bit (system)",
   "language": "python",
   "name": "python3"
  },
  "language_info": {
   "codemirror_mode": {
    "name": "ipython",
    "version": 3
   },
   "file_extension": ".py",
   "mimetype": "text/x-python",
   "name": "python",
   "nbconvert_exporter": "python",
   "pygments_lexer": "ipython3",
   "version": "3.8.0"
  },
  "orig_nbformat": 4,
  "vscode": {
   "interpreter": {
    "hash": "c74296f2c57962378120244c4456a55c5f9d97f80f034447c86daea9cd8c67c4"
   }
  }
 },
 "nbformat": 4,
 "nbformat_minor": 2
}
